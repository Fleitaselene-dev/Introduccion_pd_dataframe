{
 "cells": [
  {
   "cell_type": "markdown",
   "id": "21d8b71b",
   "metadata": {},
   "source": [
    "# Introducción a Pandas para Ciencia de Datos (DF)\n",
    "\n",
    "### Requerimientos: \n",
    "1. Datasets\n",
    "2. Librerias: Pandas, sqlite3"
   ]
  },
  {
   "cell_type": "markdown",
   "id": "e61677a0",
   "metadata": {},
   "source": [
    "Para realizar esto, debemos instalar las siguientes dependencias"
   ]
  },
  {
   "cell_type": "code",
   "execution_count": 1,
   "id": "5893b65b",
   "metadata": {
    "vscode": {
     "languageId": "powershell"
    }
   },
   "outputs": [
    {
     "name": "stdout",
     "output_type": "stream",
     "text": [
      "Note: you may need to restart the kernel to use updated packages.\n"
     ]
    },
    {
     "name": "stderr",
     "output_type": "stream",
     "text": [
      "\n",
      "[notice] A new release of pip available: 22.3.1 -> 25.0.1\n",
      "[notice] To update, run: python.exe -m pip install --upgrade pip\n"
     ]
    },
    {
     "name": "stdout",
     "output_type": "stream",
     "text": [
      "Requirement already satisfied: pandas in c:\\users\\ipf-2025\\desktop\\2504-py\\env\\lib\\site-packages (2.2.3)\n",
      "Requirement already satisfied: pytz>=2020.1 in c:\\users\\ipf-2025\\desktop\\2504-py\\env\\lib\\site-packages (from pandas) (2025.2)\n",
      "Requirement already satisfied: tzdata>=2022.7 in c:\\users\\ipf-2025\\desktop\\2504-py\\env\\lib\\site-packages (from pandas) (2025.2)\n",
      "Requirement already satisfied: python-dateutil>=2.8.2 in c:\\users\\ipf-2025\\desktop\\2504-py\\env\\lib\\site-packages (from pandas) (2.9.0.post0)\n",
      "Requirement already satisfied: numpy>=1.22.4 in c:\\users\\ipf-2025\\desktop\\2504-py\\env\\lib\\site-packages (from pandas) (2.2.5)\n",
      "Requirement already satisfied: six>=1.5 in c:\\users\\ipf-2025\\desktop\\2504-py\\env\\lib\\site-packages (from python-dateutil>=2.8.2->pandas) (1.17.0)\n"
     ]
    }
   ],
   "source": [
    "pip install pandas "
   ]
  },
  {
   "cell_type": "markdown",
   "id": "c49ccde2",
   "metadata": {},
   "source": [
    "## Extración de datos con Pandas\n",
    "Ahora que ya tenemos nuestro datasets, vamos a utilizar pandas para leer nuestro csv"
   ]
  },
  {
   "cell_type": "markdown",
   "id": "97dc1f62",
   "metadata": {},
   "source": [
    "**Importamos pandas y le asignamos el alias pd (por convencion, siempre se utiliza pd al importar)**\n",
    "\n",
    "* `import pandas as pd`\n",
    "**Importamos sqlite3**\n",
    "* `import sqlite3`"
   ]
  },
  {
   "cell_type": "code",
   "execution_count": 3,
   "id": "e1e85809",
   "metadata": {},
   "outputs": [],
   "source": [
    "import pandas as pd\n",
    "import sqlite3"
   ]
  },
  {
   "cell_type": "markdown",
   "id": "490e1d1d",
   "metadata": {},
   "source": [
    "Ahora utilizaremos el metodo `pd.read_sql_query()` para leer el datasets y lo guardaremos en una variable llamada df(DataFrame)"
   ]
  },
  {
   "cell_type": "code",
   "execution_count": 8,
   "id": "691e09bc",
   "metadata": {},
   "outputs": [],
   "source": [
    "conn = sqlite3.connect(\"customer.sqlite\")\n",
    "df = pd.read_sql_query(\"SELECT * FROM customer\", conn)\n",
    "df.head()\n",
    "conn.close()"
   ]
  },
  {
   "cell_type": "markdown",
   "id": "c5b04bfe",
   "metadata": {},
   "source": [
    "### Exploracion de datos:\n",
    "Una vez creado el df, podemos utilizar metodos de pandas que nos ayudaran a observar mejor los datos.\n",
    "En este caso, utilizaremos las funciones: \n",
    "\n",
    "* `df.shape()` <- Obtener cuantas columnas y filas tiene el df.\n",
    "* `df.colums` <- Obtener el nombre de las columnas.\n",
    "* `df.dtypes` <- Obtener los tipos dedatos de cada columna.\n",
    "* `df.info()` <- Obtener una vista rapida de los tipos de datos del df.\n",
    "* `df.isnull().sum()` <- Obtener la cantidad de datos nulos en nuestro df."
   ]
  },
  {
   "cell_type": "code",
   "execution_count": 43,
   "id": "6bacc52f",
   "metadata": {},
   "outputs": [
    {
     "name": "stdout",
     "output_type": "stream",
     "text": [
      "<class 'pandas.core.frame.DataFrame'>\n",
      "RangeIndex: 99 entries, 0 to 98\n",
      "Data columns (total 7 columns):\n",
      " #   Column      Non-Null Count  Dtype \n",
      "---  ------      --------------  ----- \n",
      " 0   id          99 non-null     int64 \n",
      " 1   first_name  99 non-null     object\n",
      " 2   last_name   99 non-null     object\n",
      " 3   dob         99 non-null     object\n",
      " 4   city        99 non-null     object\n",
      " 5   state       99 non-null     object\n",
      " 6   zip         99 non-null     int64 \n",
      "dtypes: int64(2), object(5)\n",
      "memory usage: 5.5+ KB\n"
     ]
    },
    {
     "data": {
      "text/plain": [
       "Index(['id', 'first_name', 'last_name', 'dob', 'city', 'state', 'zip'], dtype='object')"
      ]
     },
     "execution_count": 43,
     "metadata": {},
     "output_type": "execute_result"
    }
   ],
   "source": [
    "#utilizamos el metodo shape para obtener las dimensiones del dataframe\n",
    "df.info()\n",
    "\n",
    "#utilizamos el metodo columns para obtener los nombres de las columnas\n",
    "df.columns\n",
    "\n"
   ]
  },
  {
   "cell_type": "code",
   "execution_count": 17,
   "id": "e6befc39",
   "metadata": {},
   "outputs": [
    {
     "name": "stdout",
     "output_type": "stream",
     "text": [
      "<class 'pandas.core.frame.DataFrame'>\n",
      "RangeIndex: 99 entries, 0 to 98\n",
      "Data columns (total 7 columns):\n",
      " #   Column      Non-Null Count  Dtype \n",
      "---  ------      --------------  ----- \n",
      " 0   id          99 non-null     int64 \n",
      " 1   first_name  99 non-null     object\n",
      " 2   last_name   99 non-null     object\n",
      " 3   dob         99 non-null     object\n",
      " 4   city        99 non-null     object\n",
      " 5   state       99 non-null     object\n",
      " 6   zip         99 non-null     object\n",
      "dtypes: int64(1), object(6)\n",
      "memory usage: 5.5+ KB\n"
     ]
    }
   ],
   "source": [
    "#utilizamos el metodo info para obtener un resumen del dataframe\n",
    "df.info()"
   ]
  },
  {
   "cell_type": "markdown",
   "id": "8dc019c3",
   "metadata": {},
   "source": [
    "Ahora utilizaremos el metodo `isnull()` para ver si hay valores nulos en el dataframe y esto lo potenciamos con el metodo `sum()` para ver la cantidad de valores nulos por columna"
   ]
  },
  {
   "cell_type": "code",
   "execution_count": 16,
   "id": "1b5c26a4",
   "metadata": {},
   "outputs": [
    {
     "data": {
      "text/plain": [
       "id            False\n",
       "first_name    False\n",
       "last_name     False\n",
       "dob           False\n",
       "city          False\n",
       "state         False\n",
       "zip           False\n",
       "dtype: bool"
      ]
     },
     "execution_count": 16,
     "metadata": {},
     "output_type": "execute_result"
    }
   ],
   "source": [
    "df.count().isnull()\n"
   ]
  },
  {
   "cell_type": "markdown",
   "id": "846fed0c",
   "metadata": {},
   "source": [
    "**Exploración de datos**\n",
    "\n",
    "* df.head()           # Primeras 5 filas\n",
    "* df.tail()           # Últimas 5 filas\n",
    "* df.shape            # (filas, columnas)\n",
    "* df.columns          # Nombres de columnas\n",
    "* df.info()           # Info general: tipos de datos, nulos, etc.\n",
    "* df.describe()       # Estadísticas básicas (solo numéricas)\n",
    "* df.dtypes           # Tipos de datos por columna"
   ]
  },
  {
   "cell_type": "code",
   "execution_count": null,
   "id": "14d5b255",
   "metadata": {},
   "outputs": [
    {
     "data": {
      "text/html": [
       "<div>\n",
       "<style scoped>\n",
       "    .dataframe tbody tr th:only-of-type {\n",
       "        vertical-align: middle;\n",
       "    }\n",
       "\n",
       "    .dataframe tbody tr th {\n",
       "        vertical-align: top;\n",
       "    }\n",
       "\n",
       "    .dataframe thead th {\n",
       "        text-align: right;\n",
       "    }\n",
       "</style>\n",
       "<table border=\"1\" class=\"dataframe\">\n",
       "  <thead>\n",
       "    <tr style=\"text-align: right;\">\n",
       "      <th></th>\n",
       "      <th>id</th>\n",
       "      <th>first_name</th>\n",
       "      <th>last_name</th>\n",
       "      <th>dob</th>\n",
       "      <th>city</th>\n",
       "      <th>state</th>\n",
       "      <th>zip</th>\n",
       "    </tr>\n",
       "  </thead>\n",
       "  <tbody>\n",
       "    <tr>\n",
       "      <th>0</th>\n",
       "      <td>1</td>\n",
       "      <td>Kristen</td>\n",
       "      <td>Klein</td>\n",
       "      <td>2002-11-03</td>\n",
       "      <td>North Cynthiafurt</td>\n",
       "      <td>AZ</td>\n",
       "      <td>50788</td>\n",
       "    </tr>\n",
       "    <tr>\n",
       "      <th>1</th>\n",
       "      <td>2</td>\n",
       "      <td>April</td>\n",
       "      <td>Norman</td>\n",
       "      <td>1993-08-25</td>\n",
       "      <td>Patrickshire</td>\n",
       "      <td>MN</td>\n",
       "      <td>37010</td>\n",
       "    </tr>\n",
       "    <tr>\n",
       "      <th>2</th>\n",
       "      <td>3</td>\n",
       "      <td>Justin</td>\n",
       "      <td>Hanna</td>\n",
       "      <td>1998-01-30</td>\n",
       "      <td>North Chadfurt</td>\n",
       "      <td>WA</td>\n",
       "      <td>39505</td>\n",
       "    </tr>\n",
       "    <tr>\n",
       "      <th>3</th>\n",
       "      <td>4</td>\n",
       "      <td>Pamela</td>\n",
       "      <td>Stephens</td>\n",
       "      <td>1995-11-12</td>\n",
       "      <td>Margaretland</td>\n",
       "      <td>MN</td>\n",
       "      <td>13967</td>\n",
       "    </tr>\n",
       "    <tr>\n",
       "      <th>4</th>\n",
       "      <td>5</td>\n",
       "      <td>Annette</td>\n",
       "      <td>Murphy</td>\n",
       "      <td>1996-08-09</td>\n",
       "      <td>Ronaldtown</td>\n",
       "      <td>WA</td>\n",
       "      <td>98806</td>\n",
       "    </tr>\n",
       "    <tr>\n",
       "      <th>5</th>\n",
       "      <td>6</td>\n",
       "      <td>Gregory</td>\n",
       "      <td>Lee</td>\n",
       "      <td>1996-10-25</td>\n",
       "      <td>Hernandezhaven</td>\n",
       "      <td>ME</td>\n",
       "      <td>92046</td>\n",
       "    </tr>\n",
       "    <tr>\n",
       "      <th>6</th>\n",
       "      <td>7</td>\n",
       "      <td>Oscar</td>\n",
       "      <td>Doyle</td>\n",
       "      <td>1995-02-02</td>\n",
       "      <td>South Cindy</td>\n",
       "      <td>VT</td>\n",
       "      <td>4481</td>\n",
       "    </tr>\n",
       "    <tr>\n",
       "      <th>7</th>\n",
       "      <td>8</td>\n",
       "      <td>Kelly</td>\n",
       "      <td>Ramos</td>\n",
       "      <td>1997-09-12</td>\n",
       "      <td>South Paulmouth</td>\n",
       "      <td>MT</td>\n",
       "      <td>1272</td>\n",
       "    </tr>\n",
       "    <tr>\n",
       "      <th>8</th>\n",
       "      <td>9</td>\n",
       "      <td>James</td>\n",
       "      <td>Rollins</td>\n",
       "      <td>1994-10-17</td>\n",
       "      <td>Lake Ricardoton</td>\n",
       "      <td>CA</td>\n",
       "      <td>22420</td>\n",
       "    </tr>\n",
       "  </tbody>\n",
       "</table>\n",
       "</div>"
      ],
      "text/plain": [
       "   id first_name last_name         dob               city state    zip\n",
       "0   1    Kristen     Klein  2002-11-03  North Cynthiafurt    AZ  50788\n",
       "1   2      April    Norman  1993-08-25       Patrickshire    MN  37010\n",
       "2   3     Justin     Hanna  1998-01-30     North Chadfurt    WA  39505\n",
       "3   4     Pamela  Stephens  1995-11-12       Margaretland    MN  13967\n",
       "4   5    Annette    Murphy  1996-08-09         Ronaldtown    WA  98806\n",
       "5   6    Gregory       Lee  1996-10-25     Hernandezhaven    ME  92046\n",
       "6   7      Oscar     Doyle  1995-02-02        South Cindy    VT   4481\n",
       "7   8      Kelly     Ramos  1997-09-12    South Paulmouth    MT   1272\n",
       "8   9      James   Rollins  1994-10-17    Lake Ricardoton    CA  22420"
      ]
     },
     "execution_count": 45,
     "metadata": {},
     "output_type": "execute_result"
    }
   ],
   "source": [
    "# Llamamos las primeras 9 filas\n",
    "df.head(9)"
   ]
  },
  {
   "cell_type": "code",
   "execution_count": 46,
   "id": "6fd22b0d",
   "metadata": {},
   "outputs": [
    {
     "data": {
      "text/html": [
       "<div>\n",
       "<style scoped>\n",
       "    .dataframe tbody tr th:only-of-type {\n",
       "        vertical-align: middle;\n",
       "    }\n",
       "\n",
       "    .dataframe tbody tr th {\n",
       "        vertical-align: top;\n",
       "    }\n",
       "\n",
       "    .dataframe thead th {\n",
       "        text-align: right;\n",
       "    }\n",
       "</style>\n",
       "<table border=\"1\" class=\"dataframe\">\n",
       "  <thead>\n",
       "    <tr style=\"text-align: right;\">\n",
       "      <th></th>\n",
       "      <th>id</th>\n",
       "      <th>first_name</th>\n",
       "      <th>last_name</th>\n",
       "      <th>dob</th>\n",
       "      <th>city</th>\n",
       "      <th>state</th>\n",
       "      <th>zip</th>\n",
       "    </tr>\n",
       "  </thead>\n",
       "  <tbody>\n",
       "    <tr>\n",
       "      <th>90</th>\n",
       "      <td>91</td>\n",
       "      <td>Robert</td>\n",
       "      <td>Lewis</td>\n",
       "      <td>1994-07-17</td>\n",
       "      <td>Wilsonborough</td>\n",
       "      <td>MT</td>\n",
       "      <td>53741</td>\n",
       "    </tr>\n",
       "    <tr>\n",
       "      <th>91</th>\n",
       "      <td>92</td>\n",
       "      <td>Kelly</td>\n",
       "      <td>Weber</td>\n",
       "      <td>1999-08-01</td>\n",
       "      <td>Connieview</td>\n",
       "      <td>OK</td>\n",
       "      <td>9271</td>\n",
       "    </tr>\n",
       "    <tr>\n",
       "      <th>92</th>\n",
       "      <td>93</td>\n",
       "      <td>Timothy</td>\n",
       "      <td>Zhang</td>\n",
       "      <td>2000-08-27</td>\n",
       "      <td>Porterport</td>\n",
       "      <td>IA</td>\n",
       "      <td>97619</td>\n",
       "    </tr>\n",
       "    <tr>\n",
       "      <th>93</th>\n",
       "      <td>94</td>\n",
       "      <td>Emma</td>\n",
       "      <td>Miles</td>\n",
       "      <td>1994-02-19</td>\n",
       "      <td>Lake Elizabeth</td>\n",
       "      <td>AL</td>\n",
       "      <td>19328</td>\n",
       "    </tr>\n",
       "    <tr>\n",
       "      <th>94</th>\n",
       "      <td>95</td>\n",
       "      <td>Donald</td>\n",
       "      <td>Jackson</td>\n",
       "      <td>2003-05-02</td>\n",
       "      <td>Nicholshaven</td>\n",
       "      <td>MA</td>\n",
       "      <td>96512</td>\n",
       "    </tr>\n",
       "    <tr>\n",
       "      <th>95</th>\n",
       "      <td>96</td>\n",
       "      <td>Catherine</td>\n",
       "      <td>Garcia</td>\n",
       "      <td>1997-09-17</td>\n",
       "      <td>Josephville</td>\n",
       "      <td>WY</td>\n",
       "      <td>45174</td>\n",
       "    </tr>\n",
       "    <tr>\n",
       "      <th>96</th>\n",
       "      <td>97</td>\n",
       "      <td>Joshua</td>\n",
       "      <td>Henderson</td>\n",
       "      <td>1996-08-27</td>\n",
       "      <td>New Rachel</td>\n",
       "      <td>MA</td>\n",
       "      <td>70661</td>\n",
       "    </tr>\n",
       "    <tr>\n",
       "      <th>97</th>\n",
       "      <td>98</td>\n",
       "      <td>Tiffany</td>\n",
       "      <td>Sandoval</td>\n",
       "      <td>1997-08-30</td>\n",
       "      <td>Johnsonberg</td>\n",
       "      <td>ME</td>\n",
       "      <td>33781</td>\n",
       "    </tr>\n",
       "    <tr>\n",
       "      <th>98</th>\n",
       "      <td>99</td>\n",
       "      <td>Christopher</td>\n",
       "      <td>Lane</td>\n",
       "      <td>2000-03-22</td>\n",
       "      <td>Schmidtfurt</td>\n",
       "      <td>AR</td>\n",
       "      <td>22426</td>\n",
       "    </tr>\n",
       "  </tbody>\n",
       "</table>\n",
       "</div>"
      ],
      "text/plain": [
       "    id   first_name  last_name         dob            city state    zip\n",
       "90  91       Robert      Lewis  1994-07-17   Wilsonborough    MT  53741\n",
       "91  92        Kelly      Weber  1999-08-01      Connieview    OK   9271\n",
       "92  93      Timothy      Zhang  2000-08-27      Porterport    IA  97619\n",
       "93  94         Emma      Miles  1994-02-19  Lake Elizabeth    AL  19328\n",
       "94  95       Donald    Jackson  2003-05-02    Nicholshaven    MA  96512\n",
       "95  96    Catherine     Garcia  1997-09-17     Josephville    WY  45174\n",
       "96  97       Joshua  Henderson  1996-08-27      New Rachel    MA  70661\n",
       "97  98      Tiffany   Sandoval  1997-08-30     Johnsonberg    ME  33781\n",
       "98  99  Christopher       Lane  2000-03-22     Schmidtfurt    AR  22426"
      ]
     },
     "execution_count": 46,
     "metadata": {},
     "output_type": "execute_result"
    }
   ],
   "source": [
    "#llamamos las 9 ultimas filas\n",
    "df.tail(9)"
   ]
  },
  {
   "cell_type": "markdown",
   "id": "7a54878f",
   "metadata": {},
   "source": [
    "## Estadisticas descriptivas\n",
    "\n",
    "* `df.describe()`: Este método se utiliza para generar estadísticas descriptivas de un DataFrame de pandas. Proporciona un resumen estadístico de las columnas numéricas del DataFrame, incluyendo medidas como la media, la desviación estándar, los cuartiles y los valores mínimo y máximo.\n",
    "\n"
   ]
  },
  {
   "cell_type": "markdown",
   "id": "44f92839",
   "metadata": {},
   "source": [
    "### ¿Qué hace df.describe()?\n",
    "\n",
    "Al aplicar df.describe() a un DataFrame, obtendrás una tabla resumen que incluye las siguientes estadísticas para cada columna numérica:\n",
    "\n",
    "* count: El número de valores no nulos.\n",
    "* mean: La media (promedio) de los valores.\n",
    "* std: La desviación estándar de los valores.\n",
    "* min: El valor mínimo.\n",
    "* 25% (o quantile 0.25): El primer cuartil.\n",
    "* 50% (o quantile 0.50): La mediana (segundo cuartil).\n",
    "* 75% (o quantile 0.75): El tercer cuartil.\n",
    "* max: El valor máximo."
   ]
  },
  {
   "cell_type": "code",
   "execution_count": 44,
   "id": "ec84dd83",
   "metadata": {},
   "outputs": [
    {
     "data": {
      "text/html": [
       "<div>\n",
       "<style scoped>\n",
       "    .dataframe tbody tr th:only-of-type {\n",
       "        vertical-align: middle;\n",
       "    }\n",
       "\n",
       "    .dataframe tbody tr th {\n",
       "        vertical-align: top;\n",
       "    }\n",
       "\n",
       "    .dataframe thead th {\n",
       "        text-align: right;\n",
       "    }\n",
       "</style>\n",
       "<table border=\"1\" class=\"dataframe\">\n",
       "  <thead>\n",
       "    <tr style=\"text-align: right;\">\n",
       "      <th></th>\n",
       "      <th>id</th>\n",
       "      <th>zip</th>\n",
       "    </tr>\n",
       "  </thead>\n",
       "  <tbody>\n",
       "    <tr>\n",
       "      <th>count</th>\n",
       "      <td>99.000000</td>\n",
       "      <td>99.000000</td>\n",
       "    </tr>\n",
       "    <tr>\n",
       "      <th>mean</th>\n",
       "      <td>50.000000</td>\n",
       "      <td>47480.797980</td>\n",
       "    </tr>\n",
       "    <tr>\n",
       "      <th>std</th>\n",
       "      <td>28.722813</td>\n",
       "      <td>28416.548894</td>\n",
       "    </tr>\n",
       "    <tr>\n",
       "      <th>min</th>\n",
       "      <td>1.000000</td>\n",
       "      <td>1272.000000</td>\n",
       "    </tr>\n",
       "    <tr>\n",
       "      <th>25%</th>\n",
       "      <td>25.500000</td>\n",
       "      <td>23663.500000</td>\n",
       "    </tr>\n",
       "    <tr>\n",
       "      <th>50%</th>\n",
       "      <td>50.000000</td>\n",
       "      <td>42999.000000</td>\n",
       "    </tr>\n",
       "    <tr>\n",
       "      <th>75%</th>\n",
       "      <td>74.500000</td>\n",
       "      <td>70715.500000</td>\n",
       "    </tr>\n",
       "    <tr>\n",
       "      <th>max</th>\n",
       "      <td>99.000000</td>\n",
       "      <td>99006.000000</td>\n",
       "    </tr>\n",
       "  </tbody>\n",
       "</table>\n",
       "</div>"
      ],
      "text/plain": [
       "              id           zip\n",
       "count  99.000000     99.000000\n",
       "mean   50.000000  47480.797980\n",
       "std    28.722813  28416.548894\n",
       "min     1.000000   1272.000000\n",
       "25%    25.500000  23663.500000\n",
       "50%    50.000000  42999.000000\n",
       "75%    74.500000  70715.500000\n",
       "max    99.000000  99006.000000"
      ]
     },
     "execution_count": 44,
     "metadata": {},
     "output_type": "execute_result"
    }
   ],
   "source": [
    "#Obtenemos estatidsticas de nuestro df\n",
    "df.describe()"
   ]
  },
  {
   "cell_type": "markdown",
   "id": "50f3560e",
   "metadata": {},
   "source": [
    "**Operaciones con columnas**\n",
    "\n",
    "* df['columna'].value_counts()     # Conteo de valores únicos\n",
    "* df['columna'].unique()           # Valores únicos\n",
    "* df['columna'].mean()             # Media\n",
    "* df['columna'].sum()              # Suma\n",
    "* df.sort_values('columna')        # Ordenar por columna\n"
   ]
  },
  {
   "cell_type": "code",
   "execution_count": 38,
   "id": "94c90298",
   "metadata": {},
   "outputs": [
    {
     "data": {
      "text/plain": [
       "7      1272\n",
       "40     2312\n",
       "85     3638\n",
       "6      4481\n",
       "49     5056\n",
       "      ...  \n",
       "59    97768\n",
       "24    98564\n",
       "62    98744\n",
       "4     98806\n",
       "47    99006\n",
       "Name: zip, Length: 99, dtype: int64"
      ]
     },
     "execution_count": 38,
     "metadata": {},
     "output_type": "execute_result"
    }
   ],
   "source": [
    "# Convierte todos los valores de 'zip' a enteros\n",
    "df['zip'] = df['zip'].astype(int) \n",
    "\n",
    "#Ordena los valores de la columna 'zip' de menor a mayor\n",
    "df['zip'].sort_values()"
   ]
  },
  {
   "cell_type": "markdown",
   "id": "a33ff6ec",
   "metadata": {},
   "source": [
    "**Filtrado y selección**.\n",
    "* df['columna']                     # Selección de una columna\n",
    "* df[['col1', 'col2']]              # Varias columnas\n",
    "* df[df['columna'] > 100]           # Filtrado por condición\n",
    "* df.loc[0]                         # Acceso por etiqueta\n",
    "* df.iloc[0]                        # Acceso por índice\n"
   ]
  },
  {
   "cell_type": "code",
   "execution_count": null,
   "id": "11c7b88e",
   "metadata": {},
   "outputs": [
    {
     "data": {
      "text/html": [
       "<div>\n",
       "<style scoped>\n",
       "    .dataframe tbody tr th:only-of-type {\n",
       "        vertical-align: middle;\n",
       "    }\n",
       "\n",
       "    .dataframe tbody tr th {\n",
       "        vertical-align: top;\n",
       "    }\n",
       "\n",
       "    .dataframe thead th {\n",
       "        text-align: right;\n",
       "    }\n",
       "</style>\n",
       "<table border=\"1\" class=\"dataframe\">\n",
       "  <thead>\n",
       "    <tr style=\"text-align: right;\">\n",
       "      <th></th>\n",
       "      <th>id</th>\n",
       "      <th>first_name</th>\n",
       "      <th>last_name</th>\n",
       "      <th>dob</th>\n",
       "      <th>city</th>\n",
       "      <th>state</th>\n",
       "      <th>zip</th>\n",
       "    </tr>\n",
       "  </thead>\n",
       "  <tbody>\n",
       "    <tr>\n",
       "      <th>0</th>\n",
       "      <td>1</td>\n",
       "      <td>Kristen</td>\n",
       "      <td>Klein</td>\n",
       "      <td>2002-11-03</td>\n",
       "      <td>North Cynthiafurt</td>\n",
       "      <td>AZ</td>\n",
       "      <td>50788</td>\n",
       "    </tr>\n",
       "    <tr>\n",
       "      <th>1</th>\n",
       "      <td>2</td>\n",
       "      <td>April</td>\n",
       "      <td>Norman</td>\n",
       "      <td>1993-08-25</td>\n",
       "      <td>Patrickshire</td>\n",
       "      <td>MN</td>\n",
       "      <td>37010</td>\n",
       "    </tr>\n",
       "    <tr>\n",
       "      <th>2</th>\n",
       "      <td>3</td>\n",
       "      <td>Justin</td>\n",
       "      <td>Hanna</td>\n",
       "      <td>1998-01-30</td>\n",
       "      <td>North Chadfurt</td>\n",
       "      <td>WA</td>\n",
       "      <td>39505</td>\n",
       "    </tr>\n",
       "    <tr>\n",
       "      <th>3</th>\n",
       "      <td>4</td>\n",
       "      <td>Pamela</td>\n",
       "      <td>Stephens</td>\n",
       "      <td>1995-11-12</td>\n",
       "      <td>Margaretland</td>\n",
       "      <td>MN</td>\n",
       "      <td>13967</td>\n",
       "    </tr>\n",
       "    <tr>\n",
       "      <th>4</th>\n",
       "      <td>5</td>\n",
       "      <td>Annette</td>\n",
       "      <td>Murphy</td>\n",
       "      <td>1996-08-09</td>\n",
       "      <td>Ronaldtown</td>\n",
       "      <td>WA</td>\n",
       "      <td>98806</td>\n",
       "    </tr>\n",
       "    <tr>\n",
       "      <th>...</th>\n",
       "      <td>...</td>\n",
       "      <td>...</td>\n",
       "      <td>...</td>\n",
       "      <td>...</td>\n",
       "      <td>...</td>\n",
       "      <td>...</td>\n",
       "      <td>...</td>\n",
       "    </tr>\n",
       "    <tr>\n",
       "      <th>94</th>\n",
       "      <td>95</td>\n",
       "      <td>Donald</td>\n",
       "      <td>Jackson</td>\n",
       "      <td>2003-05-02</td>\n",
       "      <td>Nicholshaven</td>\n",
       "      <td>MA</td>\n",
       "      <td>96512</td>\n",
       "    </tr>\n",
       "    <tr>\n",
       "      <th>95</th>\n",
       "      <td>96</td>\n",
       "      <td>Catherine</td>\n",
       "      <td>Garcia</td>\n",
       "      <td>1997-09-17</td>\n",
       "      <td>Josephville</td>\n",
       "      <td>WY</td>\n",
       "      <td>45174</td>\n",
       "    </tr>\n",
       "    <tr>\n",
       "      <th>96</th>\n",
       "      <td>97</td>\n",
       "      <td>Joshua</td>\n",
       "      <td>Henderson</td>\n",
       "      <td>1996-08-27</td>\n",
       "      <td>New Rachel</td>\n",
       "      <td>MA</td>\n",
       "      <td>70661</td>\n",
       "    </tr>\n",
       "    <tr>\n",
       "      <th>97</th>\n",
       "      <td>98</td>\n",
       "      <td>Tiffany</td>\n",
       "      <td>Sandoval</td>\n",
       "      <td>1997-08-30</td>\n",
       "      <td>Johnsonberg</td>\n",
       "      <td>ME</td>\n",
       "      <td>33781</td>\n",
       "    </tr>\n",
       "    <tr>\n",
       "      <th>98</th>\n",
       "      <td>99</td>\n",
       "      <td>Christopher</td>\n",
       "      <td>Lane</td>\n",
       "      <td>2000-03-22</td>\n",
       "      <td>Schmidtfurt</td>\n",
       "      <td>AR</td>\n",
       "      <td>22426</td>\n",
       "    </tr>\n",
       "  </tbody>\n",
       "</table>\n",
       "<p>91 rows × 7 columns</p>\n",
       "</div>"
      ],
      "text/plain": [
       "    id   first_name  last_name         dob               city state    zip\n",
       "0    1      Kristen      Klein  2002-11-03  North Cynthiafurt    AZ  50788\n",
       "1    2        April     Norman  1993-08-25       Patrickshire    MN  37010\n",
       "2    3       Justin      Hanna  1998-01-30     North Chadfurt    WA  39505\n",
       "3    4       Pamela   Stephens  1995-11-12       Margaretland    MN  13967\n",
       "4    5      Annette     Murphy  1996-08-09         Ronaldtown    WA  98806\n",
       "..  ..          ...        ...         ...                ...   ...    ...\n",
       "94  95       Donald    Jackson  2003-05-02       Nicholshaven    MA  96512\n",
       "95  96    Catherine     Garcia  1997-09-17        Josephville    WY  45174\n",
       "96  97       Joshua  Henderson  1996-08-27         New Rachel    MA  70661\n",
       "97  98      Tiffany   Sandoval  1997-08-30        Johnsonberg    ME  33781\n",
       "98  99  Christopher       Lane  2000-03-22        Schmidtfurt    AR  22426\n",
       "\n",
       "[91 rows x 7 columns]"
      ]
     },
     "execution_count": 37,
     "metadata": {},
     "output_type": "execute_result"
    }
   ],
   "source": [
    "# Muestra solo las filas donde la columna 'zip' tiene valores mayores a 10000\n",
    "df[df['zip'] > 10000]"
   ]
  },
  {
   "cell_type": "markdown",
   "id": "46c54d77",
   "metadata": {},
   "source": [
    "#### **Exportación a un CSV O XLLS**\n",
    "\n",
    "\n",
    "* df.to_csv('archivo.csv', index=False)         # Exportar a CSV\n",
    "* df.to_excel('archivo.xlsx', index=False)      # Exportar a Excel\n"
   ]
  },
  {
   "cell_type": "markdown",
   "id": "9b280913",
   "metadata": {},
   "source": [
    "**1. to_excel**\n",
    "* Necesita la instalacion de openpyxl o xlsxwriter: pip install xlwt\n",
    "* Guarda el DataFrame como un archivo Excel (formato .xls o .xlsx)\n",
    "* Permite formatear celdas, usar varias hojas, estilos, etc.\n",
    "* Más presentación visual que un .csv."
   ]
  },
  {
   "cell_type": "code",
   "execution_count": null,
   "id": "9357b041",
   "metadata": {},
   "outputs": [],
   "source": [
    "df.to_excel(\"customer.xlsx\", index=False)"
   ]
  },
  {
   "cell_type": "markdown",
   "id": "efd4e407",
   "metadata": {},
   "source": [
    "**2.to_cvs**\n",
    "* Guarda el DataFrame en un archivo de texto separado por comas.\n",
    "* Ligero, rápido y fácil de abrir con Excel, Google Sheets o cualquier editor de texto.\n",
    "* Ideal para compartir datos simples."
   ]
  },
  {
   "cell_type": "code",
   "execution_count": null,
   "id": "78849d4f",
   "metadata": {},
   "outputs": [],
   "source": [
    "df.to_cvs(\"customer.csv\", index=False)"
   ]
  },
  {
   "cell_type": "markdown",
   "id": "415b2cfd",
   "metadata": {},
   "source": [
    "**3.to_sqlite**\n",
    "* Guarda el DataFrame en una tabla de base de datos SQL (por ejemplo, SQLite, MySQL, PostgreSQL).\n",
    "* Ideal para trabajar con grandes volúmenes de datos estructurados.\n",
    "* Permite consultas complejas con SQL.\n",
    "* Muy útil para aplicaciones web.\n",
    "* Requiere una conexión activa a la base de datos."
   ]
  },
  {
   "cell_type": "code",
   "execution_count": null,
   "id": "fe0556a6",
   "metadata": {},
   "outputs": [],
   "source": [
    "df.to_sql(\"nombre_tabla\", conn, index= False)\n"
   ]
  }
 ],
 "metadata": {
  "kernelspec": {
   "display_name": "env",
   "language": "python",
   "name": "python3"
  },
  "language_info": {
   "codemirror_mode": {
    "name": "ipython",
    "version": 3
   },
   "file_extension": ".py",
   "mimetype": "text/x-python",
   "name": "python",
   "nbconvert_exporter": "python",
   "pygments_lexer": "ipython3",
   "version": "3.10.10"
  }
 },
 "nbformat": 4,
 "nbformat_minor": 5
}
